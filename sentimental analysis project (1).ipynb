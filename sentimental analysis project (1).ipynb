{
 "cells": [
  {
   "cell_type": "markdown",
   "id": "2bc6abb5",
   "metadata": {},
   "source": [
    "# Importing libiaries"
   ]
  },
  {
   "cell_type": "code",
   "execution_count": null,
   "id": "6fa562e1",
   "metadata": {},
   "outputs": [],
   "source": [
    "from textblob import TextBlob\n",
    "import numpy as np\n",
    "import pandas as pd\n",
    "import matplotlib.pyplot as plt"
   ]
  },
  {
   "cell_type": "markdown",
   "id": "d328dd13",
   "metadata": {},
   "source": [
    "# Java Reviews"
   ]
  },
  {
   "cell_type": "code",
   "execution_count": null,
   "id": "cc2e1aae",
   "metadata": {},
   "outputs": [],
   "source": [
    "java=[\"Iam Arunachalam pursuing B.E 4th year . I have done a Java course provided by Livewire the learning stuffs are good and i learnt many things about the coding and staffs shared many information about the topic and cleared the doubtsIts a wonderful opportunity to learn in Livewire & team\",\n",
    "     \"Trainer is to be like a friend to teach, guide and make our way very easy. First of all arrangement of weekend class and clarity of information about the course is very humble. It is like a life time access course. It is not just like a academy to provide only a input. It will access our output and clarify all the doubts. Thank you.\",\n",
    "     \"I am K.S.Narmadha.I have completed Java course at Livewire Institute.Ms.Yogalakshmi mam, I would like to acknowledge your passion for teaching and your dedication to our students. Your enthusiasm for the subject matter is contagious, and it's clear that you genuinely care about their progress and well-being. Your classroom management skills and ability to create a positive learning environment are noteworthy.\",\n",
    "     \"Java class is very usefull for us....My intrest to learn java becomes less due to sunday session....\",\n",
    "     \"LiveWire....nice environmental and eco- friendly place and Our Java course staff Ms.YogaLakshmi mam simply say about her in one word is just AWASOME. Because,her teaching style and teaching explanation is CRYSTAL CLEAR and her real time example is so funny🤣 and unforgettable memories. In course time not like a staff, like a friendly teaching method and easy way to understand the Java language.\",\n",
    "     \"The faculty are in very well teaching in easy way and practically.this class is very useful for my life in Java language.\",\n",
    "     \"She is an excellent teacher.Her teaching so good. Her teaching is mainly focused on interview questions.It's very helpful to clear the interviews.\",\n",
    "     \"manner of teaching is so clear and understandable. She taught everything patiently, and also clearing our doubts. I can able to learn quickly.. Thank you so much mam.\",\n",
    "     \"manner of teaching is so wonderful and refreshing!\",\n",
    "     \"I don't know what is Java but after this class I learn lot's of new things in Java. Love this journey in LIVEWIRE.\",\n",
    "     \"Before entering the institute, I had no idea about java.But now I have gained enough clarity and it's very useful for my future....I would like to thank for java sir for easily understood java as soon as possible..his way of teaching techniques are too good and got clarification about Java..Thanks for Livewire..\",\n",
    "     \"The overall ambiance of that institute is fine ad good.The class and training of core java that we went through our staff imran sir is knowledgeable and helpful for our forthcoming placements.He explained very well in all particular topics of core java....we enjoyed and learnt all someting new about core java💯🙂\",\n",
    "     \"1) LIVEWIRE @NEW BUS STAND.* Good Atmosphere to learn in this place.2) Trainer : Mr. Imran Sir.* Explained each concept very clear and with patience.* Interacted friendly and cleared doubts whenever it arises.3) View about JAVA(Core Java Desktop Application)* My personal view about this Java course is I had learned a small amount of content in Java but relating that content in the Real time Problems I had learned a lot.\",\n",
    "     \"It was wonderful to study in livewire.\",\n",
    "     \"It's good place for learning software skill.priya mam teaching is good and help full to learn easily☺\",\n",
    "     \"Nice place to learn about software developments,java is easy to understand and priya mam is take a class good and friendly\",\n",
    "     \"Very gud surrounding very neat and tidy environment friendly staff (priyadarshini mam) giving importance to develop oru communication skills, I am civil student but they develop my java skills very well pan world pan universe teachers so lovely institute for beginners in software 🌎\",\n",
    "     \"Good teaching, Easy to learn, perfect environment to study, one day theory and one day lab this method very useful for beginners to coding. Friendly staffs.\",\n",
    "     \"I am learning java course . This is the nice plateform to learn new software. it will helps to improve my skills and knowledge .priyadharshini mam teach very easily so, it will makes me to understand the concept in short period. Thank you☺\",\n",
    "     \"Excellent coaching from here....good experience and got the relevant knowledge in JAVA Thank you Live Wire\",\n",
    "     \"Learn lot of knowledge about Java. Deep and friendly teaching.\",\n",
    "     \"I understood Java very well,friendly staff,Good teaching but needed more practice sessions\",\n",
    "     \"Web Designing: Imran sir...Good Teaching...Livewire was a good Institute to study and improve your knowledge.\",\n",
    "      \"Great learning experience from the world first class staff… (Priyadharsini mam. 😌).Good coaching institution for software training in salem .. friendly staffs and management teams. Very Good teaching with friendly mind 😇.\",\n",
    "     \"Priyadarshi teach well move from basic to advanced level Livewire salem\",\n",
    "     \"Santhiya mam teaching well I can understand easy to write ya program tq mam Priya mam also teaching nice I can understand to write a program tq mam All staff like ya friendly staff 😁☺\",\n",
    "     \"Teaching is good\",\n",
    "     \"The class was very interesting and very good atmosphere for learning.\",\n",
    "     \"Learnt lot of knowledge about Java. Deep and friendly teaching.\",\n",
    "     \"It's a very good experience at livewire salem.. they had made me to learn coding in easy and good in a kindly and friendly manner.. it's easy to communicate with the faculty and clear our doubts whenever we had..#Simply_superb🥰💙💯\",\n",
    "     \"Had an such an awesome experience learning and playing with coding languages, friendly faculty and nice environment, doubts are cleared in seconds...\",\n",
    "     \"Took Java Programming here in Salem and to be honest had an amazing time over here . Teachers were so friendly and made understand all the topics and cleared as many doubts as I ask. Biggest advantage here is the flexibility.U can go any time whenever you are free . Had side by side lab courses too which was very useful. Did 2-3 projects which revised me the whole concept.Thanks a lot!. Priyadarshini Mam was the faculty who helped me understand and as well as apply the programming in various aspects.It was an amazing experience.\",\n",
    "     \"It's a nice faculties in livewire salem branch, all computer Course avilable here.Im studied Java in livewire priya has teach us very well and dunfully\",\n",
    "     \"Very Interactive. Able to understand easy. At the beginning I thought java was too difficult, now it very easy . Staffs clearing our doubt immediately and friendly with us.\",\n",
    "     \"The experience was good for us.The staff here were good and our communication had with them was fine ...Staffs are friendly...And making our doubt clear was good I really thought at beginning does this course is worth or not...now at this point of time I really feel good in my Java language...Thank you so much for your opportunity\",\n",
    "     \"java classes it's nice. Priya mam is so friendly.. then understanding very easily.. Thanking for live wire.\",\n",
    "     \"Nice experience Gained more knowledge about java and learned how to design web app, pc apps, databases connectivity and more .... Teaching Good staf is friendly.Specialy Thanks to Kalai Ma'm.\",\n",
    "     \"Good place to learn computer based courses\",\n",
    "     \"It's Nice place to learn programming courses, the environment is too good, I'm doing my java course here so far it's going well, the teaching methods and faculty knowledge is up to the mark they taught each and every topics clearly and it's like a friendship teaching you feel very comfortable to ask doubts to them if you want quality training then go for it. All the best 👍\",\n",
    "     ]\n",
    "\n",
    "\n",
    "\n",
    "\n",
    "\n",
    "\n",
    "\n",
    "\n",
    "\n",
    "\n",
    "\n"
   ]
  },
  {
   "cell_type": "markdown",
   "id": "5770c677",
   "metadata": {},
   "source": [
    "# Python"
   ]
  },
  {
   "cell_type": "code",
   "execution_count": null,
   "id": "4e3dee10",
   "metadata": {},
   "outputs": [],
   "source": [
    "python=[\"I'm tamizhan,from mettur and i have did my under graduation in AVS college of arts and science department of Bsc(cs) and here in live wire I joined the course of python & Cloud computing and all the staffs are helped to complete my python main project. Thank you so much for everything.\",\n",
    "       \"I am sudhakar from attur I completed bsc computer science in mcas I doing python course in live wire My in charge name is jeevanandham Center is very nice But no placement Staffs are like friendly\",\n",
    "       \"Iam Raguvaran from salem I have completed my BE mechatronics in mahendra college of engineering I done my schooling in saraswati matric hr sec school Currently done python course and pursuing cloud AWS This center is good with all features\",\n",
    "       \"Im abishek from salem completed my BE.CSE in Sona College of Technology Currently completed python course in livewire by the guidance of Jeeva sir its a nice 2 months journey and also Livewire is very good\",\n",
    "       \"Hi, I am gowtham, I did python course in livewire Institute my trainer is a kokila mam she teached me very good in python.\",\n",
    "       \"Im glad that I joined LIVEWIRE institute for upgrading my skills in python .My trainer Kokila mam really helped us in good way on learning process.\",\n",
    "       \"Hi I'm Gowra Shree Sellappan completed MCA in Muthayammal Engineering college at Rasipuram. My friend referred to the livewire salem at new bus stand.Very good coaching. I gained more knowledge in python. Thanks to Livewire.\",\n",
    "       \"The way class taken was easy to understand and easy to learn. Bavatharani mam delivery of topics was easy to understand. Felt python was hard to learn before this course, but now I feel python is easy. Thank you bavatharani mam and Livewire to teach us a easy journey..learnable.thanks class. Thank for livewire Team\",\n",
    "       \"Hi I'm vishnupriya I'm completed python course at salem new bus stand. Teaching was amazing for python language..... Python coding spr learning 💥👍 thankyou livewire team.\",\n",
    "        \"I am Surendar from Sona College of Art's And Science. After knowing about Python I got know about more in the feild of software. The python language was taught by Afreen Mam She was effective in communication and passionate in teaching.\",\n",
    "       \"Here teaching service is excellent and it as good atmosphere\",\n",
    "       \"Teaching is good.Explaining topic is good\",\n",
    "       \"Live wire it's useful for my future job Livewire staff Nivetha Mam it's wonderful Mam Good Guiding and Friendly type Livewire institute I choose python course it's useful for my career and develop my Skills\",\n",
    "       \"The class is very good and teaching very useful to carrier\",\n",
    "       \"Friendly environment. experienced teaching.A fine place to gather a knowledge\",\n",
    "       \"Now I'm studying python at livewire.wonderful teaching.I studied Schl and clg but I never seen best teacher like as Priya mam....her teaching style inspired me a lot.....spl thanks to Priya mam......\",\n",
    "       \"Hi.. I'm Ranjith ... currently studying python at salem Live wire from priyadharshini mam.... She teaching well and tthe environment and fees structure also good.... I'll become a python developer surly👍🏻\",\n",
    "       \"Well trained and skilled I learned python very well\",\n",
    "       \"I'm lovely thank u for afreena mam Because easy to learning for Python program And my career development useful for this institution and thanks u to all staff....\",\n",
    "       \" its a good environment to learn many things, and friendly staff, it's a very useful for beginners i very enjoyed this entire course.........Thanks to livewire and our traineer afreen mam\",\n",
    "       \"In Live Wire the teaching of python course is good being from a computer science background I don't know about programming but here in Live Wire I learnt about python a lot and it is useful for me. Regarding staff the staff Afreen mam is friendly and taking classes in a very understanding manner and she was clearing the doubts whatever we ask Regarding to python she will answer me if I ask for multiple times. Overall it is a good experience in learning in Live Wire\",\n",
    "       \"Theroy classes very well teaching 💯🤗Live wire...Gud teaching center\",\n",
    "       \"Theory and lab It should be very good . teaching also very good .\",\n",
    "       \"Good teaching, Easy to learn, perfect environment to study, one day theory and one day lab this method very useful for beginners to coding. Friendly staffs.\",\n",
    "       \"It's easy to learn .The staff also teaching good and they clear the students doubt at that time itself teaching is easy to understanding livewire is a wonderful paltform I completed python course thanks for livewire\",\n",
    "       \"Good place to gain IT knowledge.\",\n",
    "       \"Teaching was Good . Easy to understand entire course\",\n",
    "       \"Nice Teaching Good vibes\",\n",
    "       \"Its so friendly nature in class and teaching was soo good and also it's easy to understand And livewire also they will guide your field about it\",\n",
    "       \"Hi guys.... am currently studying Python in Live wire at Salem from Priya mam... she teaching very clearly and it's helpful to enhance my coding level..... surely I'll finished my course and will be a good Python developer... Surely 🥰\",\n",
    "       \"Her teaching is very good, her teaching is easy to understand, learned more new things\",\n",
    "       \"The class was good and the way she teaches was very good and easy to understand.She clearly explained all the topics and also clearing our doubts...Thank you so much mam.\",\n",
    "       \"I'm Colin , actually I've studied python programming language on the duration of (JAN-MAR 2022)under the guidance of Mrs. Nivetha. she is an exemplary tutor, moreover she clears the doubt of the fellow students then and there without any hesitations and the institution itself provides a well-mannered environment in the lab to study as well as to practise .\",\n",
    "       \"she is teaching well,she is teaching with real lifetime examples,so I can learn easily.\",\n",
    "       \"Santhiya mam teaching well I can understand easy to write ya program tq mam\",\n",
    "       \"My staff Nivetha mam teach us well with patience and helps to get good knowledge about python. It is great learning environment.\",\n",
    "       \"Good Teaching..This course is easy to learn..I Have very usefull in python course.. Thankyou 😊\",\n",
    "       \"Friendly Teaching Easy to understand Thank you for my staff because am easy to understand and learn your the reason 🥰🥰\",\n",
    "       \"I'm Dinagaran I have completed python course in live livewire Teaching well and nice environment Nivetha mam teaches well and friendly staff.\",\n",
    "       \"Her teaching methods are great Very clear and concise.she gives a different task motivate ourself\",\n",
    "       \"Friendly character teached good and easy to understand Livewire institute also easy to find nearby to bus stand Python course\",\n",
    "       \"I'm feeling short of words to express the exceptional hard-work being put in the classes. The way you were interacting with students,making learning so interesting and explaining everything was just outstanding. Your expertise in teaching has put my mind at ease. Taking all the students together, is not easy. But perfection has always been your habit and that is what makes you the best teacher.\",\n",
    "       \"Good teaching, learnt something new Afreen mam\",\n",
    "       \"she is a great python tutor and She is very patient with everyone in class and always encouraging the students to try something new and I would highly recommend her to anyone who interested in python\",\n",
    "       \"Classes with afreen mam have been fun. Her way of teaching and making difficult things easier so that one can understand and remember everything. I recommend her to everyone.......\",\n",
    "       \"The Way of mam teaching is very Understandable and her explanation for every topic is So clear and easy to understand. Mam gives us more task which help us to undergo deeply about the topic.\",\n",
    "       \"My experience with Livewire education Centre salem was phenomenal.Iam studied python My staff Afreen,she is teaching very well i recommend Livewire salem.\",\n",
    "       \"In my experience I have learned many things about programs and coding and how to apply it with our day to day life and I have great days in my course duration and when it's come to live wire in new bus stand I am totally satisfied with there service\",\n",
    "       \"manner of teaching is so wonderful and refreshing! she was very patient with everyone in class always encouraging students to try new task.\",\n",
    "       \"I chose python as my course as a beginner and I absolutely loved the way it was taught for me, The teaching is precise and easy to learn.\"]\n",
    "\n",
    "\n",
    "\n",
    "\n",
    "\n",
    "\n",
    "\n",
    "\n",
    "\n",
    "\n",
    "\n"
   ]
  },
  {
   "cell_type": "markdown",
   "id": "1e8b12a6",
   "metadata": {},
   "source": [
    "# Internship"
   ]
  },
  {
   "cell_type": "code",
   "execution_count": null,
   "id": "ee6693fb",
   "metadata": {},
   "outputs": [],
   "source": [
    "intern=[\"This Internship is useful to learn about aws sever creation and clearly teached about the Private cloud using simple storage service .Thanking to Nivetha mam and Live wire\",\n",
    "           \"Hiii, it's me mythily. I'm student of AVS Engineering college. The department of CSE in 3rd year. I'm Attend the intership in livewire with good guidance Bavadharani mam & salman sir. Thanks for good experience.\",\n",
    "           \"I am Antony Daniel pursuing B. Tech. Ai&Ds and coming from four roads. This intern is very useful to learn and work with AI & Ml\",\n",
    "           \"I am currently pursuing cse department at AVS ENGINEERING COLLEGE I joined Livewire for Full stack development Intership and Successfully Completed My Internship with Salman Sir and Bavatharani Mam Well Trained and Good Teaching\",\n",
    "            \"I have attended the internship on Data science and Machines learning It was good experience in Livewire, friendly faculty and good teaching I have a learnt machine of new algorithm and remember of python\",\n",
    "            \"I have done my internship on Data Science and Machine Learning I had a great experience in livewire and learnt about machine learning\",\n",
    "            \"I attended internship on Data science and machine learning And I had a great experience on learning with livewires . Faculty are friendly and teaches in super way.\",\n",
    "            \"Hi this vanitha computer science Engineeringin Avs Engineering college in 3rd year I am attend internship in livewire in full stack developmentguidence staff salman sir bavatharani mam and learning in best experience.thank you for livewire team.\",\n",
    "            \"Hii This is Ashok From AVS Engineering College I'm Coming for Internship to Full Stack Development in Livewire Institution.I Had Successfully Completed My Internship in the Help of Mr.Salman Sir And Mrs.Bavatharani Mam Well Trained and Good Teaching.Thank you...\",\n",
    "            \"Hi I'm santhiya from Avs engineering College I'm coming the livewire for my internship the course was Full stack developments I'm learning the course successfully. The course was teached by Mr. Salman and Ms.Bhavadharani. Thank you livewire team\",\n",
    "            \"Hi I am Uma S Studied In AVS Engineering College I am Coming For My Internship, Full stack Development.I had Successfully Complete My Internship.This Internship Was Very Useful To Me Mr Salman Sir & Mrs Bavatharani mam Trained very Well\",\n",
    "            \"i am Saravanakumar. I am studying B.E Computer science and Engineering fourth year.i have done an internship in AWS (Storage in Virtual private cloud using simple storage service) provided by Livewire.The learning stuffs are good and I learn many things about the networking and the cloud storage .The Internship Trainer Nivetha mam Shared many information about the topic and cleared the doubts.It's a wonderful opportunity to learn the Cloud Computing. Thanks to Livewire and team\",\n",
    "            \"I took AWS internship in livewire though It was short time they teach me a lot of things about AWS cloud.the trainner are friendly and they clearfy doubts untill we understand.\",\n",
    "            \"Iam Sathiyadharan pursuing B.E 4th year . I have done an internship in AWS provided by Livewire about (storage in virtual private cloud using simple storage service) the learning stuffs are good and i learnt many things about the networking and the cloud storage Trainer Nivetha mam shared many information about the topic and cleared the doubts\",\n",
    "            \"I am Shrinivashini, a student from Livewire learning Datascience using python. I have also joined an internship on AWS cloud trained by Nivetha Ma'am. I learned about the basics of Cloud, cloud types, services and networks and a detailed knowledge about AWS cloud and had done a project Storage in virtual private cloud using AWS. The internship added value to the process of learning I am doing here and to my resume by the valuable certification provided. As a student of Livewire, I am accessible to stuffs I am learning for a long-run both the course and the internship. The experience, knowledge gained and time spent was worthy of fee paid. Thanks to Nivetha ma'am for the sincerity.\",\n",
    "            \"To be honest. This was my internship (AWS). This course very short but very informative and very helpful for an aspiring leader my self. Once again. To be honest u can learn somethig from Livewire. Thankful to Nivetha mam & Livewire\",\n",
    "            \"During my internship days at Live wire organization, I had the opportunity to work with Amazon Web Services (AWS) and gain valuable insights into cloud computing and its applications. The experience was truly enriching, and I am grateful for the hands-on learning it provided. The AWS infrastructure and services were well-organized, allowing us to work efficiently and effectively. The mentor and instructor(Nivetha mam) were knowledgeable and supportive, guiding us through various projects and problem-solving challenges.The real-world projects helped us understand the practical implications of AWS in the business world. it still provided an excellent foundation. Overall, the AWS internship at Live wire was a fantastic opportunity to delve into cloud technologies and broaden my skillset.\",\n",
    "            \"Hi I am Magalakshmi from department of (Ai&ds) (3year) in Avs engineering colleges. I attended internship for livewire for me more knowledgable and useful for me .thank you for livewire team members bavatharani mam and salman sir.this internship made an good experience also of gateway.thanks for entire livewire team\",\n",
    "            \"This is priyanka. I am studying AVS Engineering College B. Tech Artificial intelligence and data science department. I had a very good experience in this internship. Salman and Bavatharani staff's are trained very well.I learned more new things and the class is interesting to listen.Teaching is good.This internship is very useful for me. A great thanking you for the entire LiveWire team..\",\n",
    "            \"Hi myself saranya.k from the department of AI& DS ( 3rd year ) AVS Engineering clg .... This internship more benefits to me and learning in good experience of working days and very well teaching to Salam sir and bavatharani mam .... thanks to entire live wire team\",\n",
    "            \"Hi! Myself Mounika Harini from the Department of AI&DS (3rd yr) at AVS Engineering College. I'm attended the internship of API Payment Gateway at Livewire New busstand it were conducted by Bavadharani mam and salman sir.This internship made an good experience of Gateway domain. Thanks to entire live wire team.\",\n",
    "            \"Hii.. This is M.Pugazhenthi from AVS Engineering College and I have studing Computer science and Engineering of 3rd year .. I had attend My Internship program at Livewire near New Busstand,Salem .. I completed my internship about the Fullstack development About API Payment Gateway .. And my coaching staffs are Bavatharani mam & Salman sir ... My experiences about my internship was very Excellent and Useful for my future studies ..\",]\n",
    "        \n",
    "            \n"
   ]
  },
  {
   "cell_type": "code",
   "execution_count": null,
   "id": "5ba58c8b",
   "metadata": {},
   "outputs": [],
   "source": [
    "# Counts of each Reviews"
   ]
  },
  {
   "cell_type": "code",
   "execution_count": null,
   "id": "5cb194b8",
   "metadata": {},
   "outputs": [],
   "source": [
    "java_count=len(java)\n",
    "python_count=len(python)\n",
    "intern_count=len(intern)"
   ]
  },
  {
   "cell_type": "code",
   "execution_count": null,
   "id": "b121943a",
   "metadata": {},
   "outputs": [],
   "source": [
    "print(\"Counts of Java Review :\",java_count)\n",
    "print(\"Counts of Python Review :\",python_count)\n",
    "print(\"Counts of Intern Review :\",intern_count)"
   ]
  },
  {
   "cell_type": "markdown",
   "id": "6de58e88",
   "metadata": {},
   "source": [
    "# sentimental analysis for java"
   ]
  },
  {
   "cell_type": "code",
   "execution_count": null,
   "id": "e381c0b1",
   "metadata": {},
   "outputs": [],
   "source": [
    "one_pol=[]\n",
    "one_pol_txt=[]\n",
    "five_pol=[]\n",
    "five_pol_txt=[]\n",
    "zero_1_pol=[]\n",
    "zero_1_pol_txt=[]\n",
    "zero_pol=[]\n",
    "zero_pol_txt=[]\n",
    "minus_pol=[]\n",
    "minus_pol_txt=[]\n",
    "bb=[]\n",
    "for text in java:\n",
    "    analysis = TextBlob(text)\n",
    "    sentiment = analysis.sentiment\n",
    "    #print(f\"Text: {text}\")\n",
    "    print(f\"Sentiment Polarity: {sentiment.polarity}\")\n",
    "    print(f\"Sentiment Subjectivity: {sentiment.subjectivity}\")\n",
    "    print()\n",
    "    bb.append(sentiment.polarity)\n",
    "    if sentiment.polarity>=1 :\n",
    "        one_pol.append(sentiment.polarity)\n",
    "        one_pol_txt.append(text)\n",
    "    elif sentiment.polarity>=0.5 and  sentiment.polarity <1:\n",
    "        five_pol.append(sentiment.polarity)\n",
    "        five_pol_txt.append(text)\n",
    "    elif sentiment.polarity>0 and  sentiment.polarity <0.5:\n",
    "        zero_1_pol.append(sentiment.polarity)\n",
    "        zero_1_pol_txt.append(text)\n",
    "    elif sentiment.polarity==0:\n",
    "        zero_pol.append(sentiment.polarity)\n",
    "        zero_pol_txt.append(text)\n",
    "    else:\n",
    "        minus_pol.append(sentiment.polarity)\n",
    "        minus_pol_txt.append(text)\n",
    "        \n",
    "        \n",
    "        \n",
    "        \n",
    "        \n",
    "        "
   ]
  },
  {
   "cell_type": "code",
   "execution_count": null,
   "id": "e8b005d5",
   "metadata": {},
   "outputs": [],
   "source": [
    "count_review_java=len(one_pol)\n",
    "view_java_Review=one_pol_txt"
   ]
  },
  {
   "cell_type": "code",
   "execution_count": null,
   "id": "d38f13e6",
   "metadata": {},
   "outputs": [],
   "source": [
    "def java_excellent():    \n",
    "    print(\"Length of Excellent Java Review:\",count_review_java)\n",
    "    print()\n",
    "    print(\"View the text of Excellent Java Review: \")\n",
    "    for i in view_java_Review:\n",
    "        print(i)\n",
    "        print()\n",
    "        \n"
   ]
  },
  {
   "cell_type": "code",
   "execution_count": null,
   "id": "1b382b57",
   "metadata": {},
   "outputs": [],
   "source": [
    "def java_very_good():\n",
    "    print(\"Length of Very Good Java Review:\",len(five_pol))\n",
    "    print()\n",
    "    print(\"View the text of Very Good Java Review: \")\n",
    "    print()\n",
    "    for i in five_pol_txt:\n",
    "\n",
    "        print(i)\n",
    "        print()\n",
    "    #print(\"View the text of Good Java Review: \",five_pol_txt)"
   ]
  },
  {
   "cell_type": "code",
   "execution_count": null,
   "id": "deae90db",
   "metadata": {},
   "outputs": [],
   "source": [
    "def java_good():\n",
    "    print(\"Length of Good Java Review:\",len(zero_1_pol))\n",
    "    print()\n",
    "    print(\"View the text of Good Java Review: \")\n",
    "    print()\n",
    "    for i in zero_1_pol_txt:\n",
    "\n",
    "        print(i)\n",
    "        print()"
   ]
  },
  {
   "cell_type": "code",
   "execution_count": null,
   "id": "6994d507",
   "metadata": {},
   "outputs": [],
   "source": [
    "zero_pol\n",
    "def java_neutral():\n",
    "    print(\"Length of Neutral Java Review:\",len(zero_pol))\n",
    "    print()\n",
    "    print(\"View the text of Neutral Java Review: \")\n",
    "    print()\n",
    "    for i in zero_pol_txt:\n",
    "        print(i)\n",
    "        print()"
   ]
  },
  {
   "cell_type": "code",
   "execution_count": null,
   "id": "6dabfc4c",
   "metadata": {},
   "outputs": [],
   "source": [
    "\n",
    "def java_minus():\n",
    "    print(\"Length of Negative Java Review:\",len(minus_pol))\n",
    "    print()\n",
    "    print(\"View the text of Negative Java Review: \")\n",
    "    print()\n",
    "    for i in minus_pol_txt:\n",
    "        print(i)\n",
    "        print()"
   ]
  },
  {
   "cell_type": "code",
   "execution_count": null,
   "id": "deb73f97",
   "metadata": {},
   "outputs": [],
   "source": [
    "des=[\"Excellent\",\"Very Good\",\"Good\",\"Netural\",\"Negative\"]\n",
    "score=[len(one_pol),len(five_pol),len(zero_1_pol),len(zero_pol),len(minus_pol)]"
   ]
  },
  {
   "cell_type": "code",
   "execution_count": null,
   "id": "2c0fb112",
   "metadata": {},
   "outputs": [],
   "source": [
    "plt.bar(des,score)\n",
    "plt.title(\"Java\")"
   ]
  },
  {
   "cell_type": "code",
   "execution_count": null,
   "id": "b57d35a2",
   "metadata": {},
   "outputs": [],
   "source": [
    "# to view the Reviews"
   ]
  },
  {
   "cell_type": "code",
   "execution_count": null,
   "id": "27b76197",
   "metadata": {},
   "outputs": [],
   "source": [
    "aa=\"\"\"\n",
    "    1.Excellent\n",
    "    2.Very Good\n",
    "    3.Good\n",
    "    4.Netural\n",
    "    5.Negative\n",
    "\"\"\""
   ]
  },
  {
   "cell_type": "code",
   "execution_count": null,
   "id": "407727d9",
   "metadata": {},
   "outputs": [],
   "source": [
    "#print(\"Select the option to view the reviews :\")\n",
    "print(aa)\n",
    "a=int(input(\"Select the option to view the reviews :\"))\n",
    "print(\"\")\n",
    "if a==1:\n",
    "    java_excellent()\n",
    "elif a==2:\n",
    "    java_very_good()\n",
    "elif a==3:\n",
    "    java_good()\n",
    "elif a==4:\n",
    "    java_neutral()\n",
    "elif a==5:\n",
    "    java_minus()\n",
    "else:\n",
    "    print(\"Wrong Input\")"
   ]
  },
  {
   "cell_type": "markdown",
   "id": "130575b9",
   "metadata": {},
   "source": [
    "# sentimental analysis forPython"
   ]
  },
  {
   "cell_type": "code",
   "execution_count": null,
   "id": "3ea44f7d",
   "metadata": {},
   "outputs": [],
   "source": [
    "pone_pol=[]\n",
    "pone_pol_txt=[]\n",
    "pfive_pol=[]\n",
    "pfive_pol_txt=[]\n",
    "pzero_1_pol=[]\n",
    "pzero_1_pol_txt=[]\n",
    "pzero_pol=[]\n",
    "pzero_pol_txt=[]\n",
    "pminus_pol=[]\n",
    "pminus_pol_txt=[]\n",
    "pbb=[]\n",
    "for text in python:\n",
    "    analysis = TextBlob(text)\n",
    "    sentiment = analysis.sentiment\n",
    "    #print(f\"Text: {text}\")\n",
    "    print(f\"Sentiment Polarity: {sentiment.polarity}\")\n",
    "    print(f\"Sentiment Subjectivity: {sentiment.subjectivity}\")\n",
    "    print()\n",
    "    pbb.append(sentiment.polarity)\n",
    "    if sentiment.polarity>=1 :\n",
    "        pone_pol.append(sentiment.polarity)\n",
    "        pone_pol_txt.append(text)\n",
    "    elif sentiment.polarity>=0.5 and  sentiment.polarity <1:\n",
    "        pfive_pol.append(sentiment.polarity)\n",
    "        pfive_pol_txt.append(text)\n",
    "    elif sentiment.polarity>0 and  sentiment.polarity <0.5:\n",
    "        pzero_1_pol.append(sentiment.polarity)\n",
    "        pzero_1_pol_txt.append(text)\n",
    "    elif sentiment.polarity==0:\n",
    "        pzero_pol.append(sentiment.polarity)\n",
    "        pzero_pol_txt.append(text)\n",
    "    else:\n",
    "        pminus_pol.append(sentiment.polarity)\n",
    "        pminus_pol_txt.append(text)\n",
    "        "
   ]
  },
  {
   "cell_type": "code",
   "execution_count": null,
   "id": "9b9246e4",
   "metadata": {},
   "outputs": [],
   "source": [
    "def python_excellent():    \n",
    "    print(\"Length of Excellent Python Review:\",len(pone_pol))\n",
    "    print()\n",
    "    print(\"View the text of Excellent Python Review: \")\n",
    "    for i in pone_pol_txt:\n",
    "        print(i)\n",
    "        print()\n",
    "        \n",
    "python_excellent()"
   ]
  },
  {
   "cell_type": "code",
   "execution_count": null,
   "id": "4757af66",
   "metadata": {},
   "outputs": [],
   "source": [
    "def python_very_good():\n",
    "    print(\"Length of Very Good Python Review:\",len(pfive_pol))\n",
    "    print()\n",
    "    print(\"View the text of Very Good Python Review: \")\n",
    "    print()\n",
    "    for i in pfive_pol_txt:\n",
    "\n",
    "        print(i)\n",
    "        print()\n",
    "    #print(\"View the text of Good Java Review: \",five_pol_txt)"
   ]
  },
  {
   "cell_type": "code",
   "execution_count": null,
   "id": "34c831e8",
   "metadata": {},
   "outputs": [],
   "source": [
    "def python_good():\n",
    "    print(\"Length of Good Python Review:\",len(pzero_1_pol))\n",
    "    print()\n",
    "    print(\"View the text of Good Python Review: \")\n",
    "    print()\n",
    "    for i in pzero_1_pol_txt:\n",
    "\n",
    "        print(i)\n",
    "        print()"
   ]
  },
  {
   "cell_type": "code",
   "execution_count": null,
   "id": "09cb7660",
   "metadata": {},
   "outputs": [],
   "source": [
    "def python_neutral():\n",
    "    print(\"Length of Neutral Python Review:\",len(pzero_pol))\n",
    "    print()\n",
    "    print(\"View the text of Neutral Python Review: \")\n",
    "    print()\n",
    "    for i in pzero_pol_txt:\n",
    "        print(i)\n",
    "        print()"
   ]
  },
  {
   "cell_type": "code",
   "execution_count": null,
   "id": "be13fb94",
   "metadata": {},
   "outputs": [],
   "source": [
    "\n",
    "def python_minus():\n",
    "    print(\"Length of Negative Python Review:\",len(pminus_pol))\n",
    "    print()\n",
    "    print(\"View the text of Negative Python Review: \")\n",
    "    print()\n",
    "    for i in pminus_pol_txt:\n",
    "        print(i)\n",
    "        print()"
   ]
  },
  {
   "cell_type": "code",
   "execution_count": null,
   "id": "2a78f2f2",
   "metadata": {},
   "outputs": [],
   "source": [
    "p_score=[len(pone_pol),len(pfive_pol),len(pzero_1_pol),len(pzero_pol),len(pminus_pol)]"
   ]
  },
  {
   "cell_type": "markdown",
   "id": "eccb3ae9",
   "metadata": {},
   "source": [
    "# Data Visulization for Python"
   ]
  },
  {
   "cell_type": "code",
   "execution_count": null,
   "id": "68266e57",
   "metadata": {},
   "outputs": [],
   "source": [
    "plt.bar(des,p_score)\n",
    "plt.title(\"Python\")"
   ]
  },
  {
   "cell_type": "code",
   "execution_count": null,
   "id": "18007239",
   "metadata": {},
   "outputs": [],
   "source": [
    "#print(\"Select the option to view the reviews :\")\n",
    "print(aa)\n",
    "a=int(input(\"Select the option to view the reviews :\"))\n",
    "print(\"\")\n",
    "if a==1:\n",
    "    python_excellent()\n",
    "elif a==2:\n",
    "    python_very_good()\n",
    "elif a==3:\n",
    "    python_good()\n",
    "elif a==4:\n",
    "    python_neutral()\n",
    "elif a==5:\n",
    "    python_minus()\n",
    "else:\n",
    "    print(\"Wrong Input\")"
   ]
  },
  {
   "cell_type": "markdown",
   "id": "e664afb1",
   "metadata": {},
   "source": [
    "# sentimental analysis for Intern"
   ]
  },
  {
   "cell_type": "code",
   "execution_count": null,
   "id": "74996f94",
   "metadata": {},
   "outputs": [],
   "source": [
    "ione_pol=[]\n",
    "ione_pol_txt=[]\n",
    "ifive_pol=[]\n",
    "ifive_pol_txt=[]\n",
    "izero_1_pol=[]\n",
    "izero_1_pol_txt=[]\n",
    "izero_pol=[]\n",
    "izero_pol_txt=[]\n",
    "iminus_pol=[]\n",
    "iminus_pol_txt=[]\n",
    "ibb=[]\n",
    "for text in intern:\n",
    "    analysis = TextBlob(text)\n",
    "    sentiment = analysis.sentiment\n",
    "    #print(f\"Text: {text}\")\n",
    "    print(f\"Sentiment Polarity: {sentiment.polarity}\")\n",
    "    print(f\"Sentiment Subjectivity: {sentiment.subjectivity}\")\n",
    "    print()\n",
    "    bb.append(sentiment.polarity)\n",
    "    if sentiment.polarity>=1 :\n",
    "        ione_pol.append(sentiment.polarity)\n",
    "        ione_pol_txt.append(text)\n",
    "    elif sentiment.polarity>=0.5 and  sentiment.polarity <1:\n",
    "        ifive_pol.append(sentiment.polarity)\n",
    "        ifive_pol_txt.append(text)\n",
    "    elif sentiment.polarity>0 and  sentiment.polarity <0.5:\n",
    "        izero_1_pol.append(sentiment.polarity)\n",
    "        izero_1_pol_txt.append(text)\n",
    "    elif sentiment.polarity==0:\n",
    "        izero_pol.append(sentiment.polarity)\n",
    "        izero_pol_txt.append(text)\n",
    "    else:\n",
    "        iminus_pol.append(sentiment.polarity)\n",
    "        iminus_pol_txt.append(text)\n",
    "        \n",
    "        \n",
    "        \n",
    "        \n",
    "        \n",
    "        "
   ]
  },
  {
   "cell_type": "code",
   "execution_count": null,
   "id": "0cbbf81c",
   "metadata": {},
   "outputs": [],
   "source": []
  },
  {
   "cell_type": "code",
   "execution_count": null,
   "id": "31d06219",
   "metadata": {},
   "outputs": [],
   "source": [
    "def intern_excellent():    \n",
    "    print(\"Length of Excellent Intern Review:\",len(ione_pol))\n",
    "    print()\n",
    "    print(\"View the text of Excellent Intern Review: \")\n",
    "    for i in ione_pol_txt:\n",
    "        print(i)\n",
    "        print()\n"
   ]
  },
  {
   "cell_type": "code",
   "execution_count": null,
   "id": "c3806be6",
   "metadata": {},
   "outputs": [],
   "source": [
    "def intern_very_good():\n",
    "    print(\"Length of Very Good Intern Review:\",len(izero_1_pol))\n",
    "    print()\n",
    "    print(\"View the text of Very Good Intern Review: \")\n",
    "    print()\n",
    "    for i in izero_1_pol_txt:\n",
    "\n",
    "        print(i)\n",
    "        print()\n",
    "    #print(\"View the text of Good Java Review: \",five_pol_txt)"
   ]
  },
  {
   "cell_type": "code",
   "execution_count": null,
   "id": "aa248cc6",
   "metadata": {},
   "outputs": [],
   "source": [
    "def intern_good():\n",
    "    print(\"Length of Good Intern Review:\",len(izero_1_pol))\n",
    "    print()\n",
    "    print(\"View the text of Good Intern Review: \")\n",
    "    print()\n",
    "    for i in izero_1_pol_txt:\n",
    "\n",
    "        print(i)\n",
    "        print()"
   ]
  },
  {
   "cell_type": "code",
   "execution_count": null,
   "id": "3e382361",
   "metadata": {},
   "outputs": [],
   "source": [
    "def intern_neutral():\n",
    "    print(\"Length of Neutral Intern Review:\",len(izero_pol))\n",
    "    print()\n",
    "    print(\"View the text of Neutral Intern Review: \")\n",
    "    print()\n",
    "    for i in izero_pol_txt:\n",
    "        print(i)\n",
    "        print()"
   ]
  },
  {
   "cell_type": "code",
   "execution_count": null,
   "id": "12e05c3b",
   "metadata": {},
   "outputs": [],
   "source": [
    "def intern_minus():\n",
    "    print(\"Length of Negative Intern Review:\",len(iminus_pol))\n",
    "    print()\n",
    "    print(\"View the text of Negative Intern Review: \")\n",
    "    print()\n",
    "    for i in iminus_pol_txt:\n",
    "        print(i)\n",
    "        print()"
   ]
  },
  {
   "cell_type": "code",
   "execution_count": null,
   "id": "0b3c509a",
   "metadata": {},
   "outputs": [],
   "source": []
  },
  {
   "cell_type": "code",
   "execution_count": null,
   "id": "aec0f90b",
   "metadata": {},
   "outputs": [],
   "source": [
    "i_score=[len(ione_pol),len(ifive_pol),len(izero_1_pol),len(izero_pol),len(iminus_pol)]"
   ]
  },
  {
   "cell_type": "markdown",
   "id": "471e2799",
   "metadata": {},
   "source": [
    "# Data Visulization for Intern"
   ]
  },
  {
   "cell_type": "code",
   "execution_count": null,
   "id": "9b8a8e50",
   "metadata": {},
   "outputs": [],
   "source": [
    "plt.bar(des,i_score)\n",
    "plt.title(\"Intern\")"
   ]
  },
  {
   "cell_type": "code",
   "execution_count": null,
   "id": "291bceda",
   "metadata": {},
   "outputs": [],
   "source": [
    "\"\"\"int(\"Select the option to view the reviews :\")\n",
    "#print(aa)\n",
    "a=int(input(\"Select the option to view the reviews :\"))\n",
    "print(\"\")\n",
    "if a==1:\n",
    "    intern_excellent()\n",
    "elif a==2:\n",
    "    intern_very_good()\n",
    "elif a==3:\n",
    "    intern_good()\n",
    "elif a==4:\n",
    "    intern_neutral()\n",
    "elif a==5:\n",
    "    intern_minus()\n",
    "else:\n",
    "    print(\"Wrong Input\")\n",
    "\"\"\"\n",
    "#pr"
   ]
  },
  {
   "cell_type": "markdown",
   "id": "a70dcb51",
   "metadata": {},
   "source": [
    "# Overall Combination"
   ]
  },
  {
   "cell_type": "code",
   "execution_count": null,
   "id": "09f8d047",
   "metadata": {},
   "outputs": [],
   "source": [
    "a=score\n",
    "b=p_score\n",
    "c=i_score"
   ]
  },
  {
   "cell_type": "code",
   "execution_count": null,
   "id": "eac383ff",
   "metadata": {},
   "outputs": [],
   "source": [
    "result = [a_i + b_i + c_i for a_i, b_i, c_i in zip(a, b, c)]\n",
    "\n",
    "print(result)"
   ]
  },
  {
   "cell_type": "code",
   "execution_count": null,
   "id": "c07bb6f9",
   "metadata": {},
   "outputs": [],
   "source": [
    "plt.bar(des,result)\n",
    "plt.title(\"OVERALL REVIEW\")"
   ]
  },
  {
   "cell_type": "code",
   "execution_count": null,
   "id": "673f6019",
   "metadata": {},
   "outputs": [],
   "source": [
    "import numpy as np\n",
    "i=des\n",
    "j=score\n",
    "k=p_score\n",
    "l=i_score"
   ]
  },
  {
   "cell_type": "code",
   "execution_count": null,
   "id": "712bb3df",
   "metadata": {},
   "outputs": [],
   "source": [
    "bar_width = 0.31\n",
    "i_values = np.arange(len(i))\n",
    "plt.figure(figsize=(15, 8))\n",
    "plt.bar(i_values + bar_width, j, width=bar_width, label='Java')\n",
    "plt.bar(i_values + 2*bar_width, k, width=bar_width, label='Python')\n",
    "plt.bar(i_values + 3*bar_width, l, width=bar_width, label='intern')\n",
    "plt.xticks(i_values + bar_width, i)\n",
    "plt.title(\"Combine of all\")\n",
    "plt.xlabel('Grades')\n",
    "plt.ylabel('Review')\n",
    "plt.legend()\n",
    "plt.grid()\n",
    "plt.show()\n"
   ]
  },
  {
   "cell_type": "code",
   "execution_count": null,
   "id": "b239da09",
   "metadata": {},
   "outputs": [],
   "source": []
  },
  {
   "cell_type": "code",
   "execution_count": null,
   "id": "dc19b227",
   "metadata": {},
   "outputs": [],
   "source": []
  },
  {
   "cell_type": "code",
   "execution_count": null,
   "id": "6136b74f",
   "metadata": {},
   "outputs": [],
   "source": []
  },
  {
   "cell_type": "code",
   "execution_count": null,
   "id": "6837ea05",
   "metadata": {},
   "outputs": [],
   "source": []
  },
  {
   "cell_type": "code",
   "execution_count": null,
   "id": "d739d4c6",
   "metadata": {},
   "outputs": [],
   "source": []
  }
 ],
 "metadata": {
  "kernelspec": {
   "display_name": "Python 3 (ipykernel)",
   "language": "python",
   "name": "python3"
  },
  "language_info": {
   "codemirror_mode": {
    "name": "ipython",
    "version": 3
   },
   "file_extension": ".py",
   "mimetype": "text/x-python",
   "name": "python",
   "nbconvert_exporter": "python",
   "pygments_lexer": "ipython3",
   "version": "3.11.4"
  }
 },
 "nbformat": 4,
 "nbformat_minor": 5
}
